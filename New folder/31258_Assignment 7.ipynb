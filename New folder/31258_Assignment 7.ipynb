{
 "cells": [
  {
   "cell_type": "markdown",
   "id": "95dd2e15",
   "metadata": {},
   "source": [
    "### Importing and downloading required libraries"
   ]
  },
  {
   "cell_type": "code",
   "execution_count": 1,
   "id": "3bf8c97a",
   "metadata": {},
   "outputs": [
    {
     "name": "stderr",
     "output_type": "stream",
     "text": [
      "[nltk_data] Downloading package punkt to /home/TE/nltk_data...\n",
      "[nltk_data]   Unzipping tokenizers/punkt.zip.\n"
     ]
    },
    {
     "data": {
      "text/plain": [
       "True"
      ]
     },
     "execution_count": 1,
     "metadata": {},
     "output_type": "execute_result"
    }
   ],
   "source": [
    "import nltk\n",
    "nltk.download('punkt')"
   ]
  },
  {
   "cell_type": "code",
   "execution_count": 2,
   "id": "607c8fd5",
   "metadata": {},
   "outputs": [],
   "source": [
    "text=\"The voice that navigated was definitely that of a machine, and yet you could tell that the machine was a woman, which hurt my mind a little. How can machines have genders? The machine also had an American accent. How can machines have nationalities? This can't be a good idea, making machines talk like real people, can it? Giving machines humanoid identities?\""
   ]
  },
  {
   "cell_type": "markdown",
   "id": "d7079ba6",
   "metadata": {},
   "source": [
    "### Tokenization"
   ]
  },
  {
   "cell_type": "code",
   "execution_count": 6,
   "id": "af7636be",
   "metadata": {},
   "outputs": [
    {
     "name": "stdout",
     "output_type": "stream",
     "text": [
      "['The voice that navigated was definitely that of a machine, and yet you could tell that the machine was a woman, which hurt my mind a little.', 'How can machines have genders?', 'The machine also had an American accent.', 'How can machines have nationalities?', \"This can't be a good idea, making machines talk like real people, can it?\", 'Giving machines humanoid identities?']\n",
      "['The', 'voice', 'that', 'navigated', 'was', 'definitely', 'that', 'of', 'a', 'machine', ',', 'and', 'yet', 'you', 'could', 'tell', 'that', 'the', 'machine', 'was', 'a', 'woman', ',', 'which', 'hurt', 'my', 'mind', 'a', 'little', '.', 'How', 'can', 'machines', 'have', 'genders', '?', 'The', 'machine', 'also', 'had', 'an', 'American', 'accent', '.', 'How', 'can', 'machines', 'have', 'nationalities', '?', 'This', 'ca', \"n't\", 'be', 'a', 'good', 'idea', ',', 'making', 'machines', 'talk', 'like', 'real', 'people', ',', 'can', 'it', '?', 'Giving', 'machines', 'humanoid', 'identities', '?']\n"
     ]
    }
   ],
   "source": [
    "from nltk.tokenize import sent_tokenize, word_tokenize\n",
    "tokenized_sent=sent_tokenize(text)\n",
    "tokenized_word=word_tokenize(text)\n",
    "print(tokenized_sent)\n",
    "print(tokenized_word)"
   ]
  },
  {
   "cell_type": "code",
   "execution_count": 26,
   "id": "b671f795",
   "metadata": {},
   "outputs": [],
   "source": [
    "string=\"Natural language processing (NLP) refers to the branch of computer science—and more specifically, the branch of artificial intelligence or AI—concerned with giving computers the ability to understand text and spoken words in much the same way human beings can.\""
   ]
  },
  {
   "cell_type": "code",
   "execution_count": 27,
   "id": "a1c0d1b0",
   "metadata": {},
   "outputs": [
    {
     "name": "stdout",
     "output_type": "stream",
     "text": [
      "['Natural language processing (NLP) refers to the branch of computer science—and more specifically, the branch of artificial intelligence or AI—concerned with giving computers the ability to understand text and spoken words in much the same way human beings can.']\n",
      "['Natural', 'language', 'processing', '(', 'NLP', ')', 'refers', 'to', 'the', 'branch', 'of', 'computer', 'science—and', 'more', 'specifically', ',', 'the', 'branch', 'of', 'artificial', 'intelligence', 'or', 'AI—concerned', 'with', 'giving', 'computers', 'the', 'ability', 'to', 'understand', 'text', 'and', 'spoken', 'words', 'in', 'much', 'the', 'same', 'way', 'human', 'beings', 'can', '.']\n"
     ]
    }
   ],
   "source": [
    "from nltk.tokenize import sent_tokenize, word_tokenize\n",
    "tokenize_sent=sent_tokenize(string)\n",
    "tokenize_word=word_tokenize(string)\n",
    "print(tokenize_sent)\n",
    "print(tokenize_word)"
   ]
  },
  {
   "cell_type": "markdown",
   "id": "514b1677",
   "metadata": {},
   "source": [
    "### Frequency distribution of words"
   ]
  },
  {
   "cell_type": "code",
   "execution_count": 7,
   "id": "4a2e536d",
   "metadata": {},
   "outputs": [
    {
     "name": "stdout",
     "output_type": "stream",
     "text": [
      "<FreqDist with 50 samples and 73 outcomes>\n"
     ]
    }
   ],
   "source": [
    "from nltk.probability import FreqDist\n",
    "freq_dist = FreqDist(tokenized_word)\n",
    "print(freq_dist)"
   ]
  },
  {
   "cell_type": "code",
   "execution_count": 8,
   "id": "cc2e4b53",
   "metadata": {},
   "outputs": [
    {
     "data": {
      "text/plain": [
       "[('a', 4), (',', 4), ('machines', 4), ('?', 4), ('that', 3)]"
      ]
     },
     "execution_count": 8,
     "metadata": {},
     "output_type": "execute_result"
    }
   ],
   "source": [
    "freq_dist.most_common(5)"
   ]
  },
  {
   "cell_type": "code",
   "execution_count": 9,
   "id": "6946b319",
   "metadata": {
    "scrolled": true
   },
   "outputs": [
    {
     "data": {
      "image/png": "[encoded data removed]",
      "text/plain": [
       "<Figure size 432x288 with 1 Axes>"
      ]
     },
     "metadata": {
      "needs_background": "light"
     },
     "output_type": "display_data"
    }
   ],
   "source": [
    "import matplotlib.pyplot as plt\n",
    "freq_dist.plot(30,cumulative=False)\n",
    "plt.show()"
   ]
  },
  {
   "cell_type": "code",
   "execution_count": 30,
   "id": "f0c59b6b",
   "metadata": {},
   "outputs": [
    {
     "name": "stdout",
     "output_type": "stream",
     "text": [
      "<FreqDist with 37 samples and 43 outcomes>\n"
     ]
    }
   ],
   "source": [
    "from nltk.probability import FreqDist\n",
    "freq = FreqDist(tokenize_word)\n",
    "print(freq)"
   ]
  },
  {
   "cell_type": "code",
   "execution_count": 31,
   "id": "0e269bae",
   "metadata": {
    "scrolled": true
   },
   "outputs": [
    {
     "data": {
      "text/plain": [
       "[('the', 4), ('to', 2), ('branch', 2), ('of', 2), ('Natural', 1)]"
      ]
     },
     "execution_count": 31,
     "metadata": {},
     "output_type": "execute_result"
    }
   ],
   "source": [
    "freq.most_common(5)"
   ]
  },
  {
   "cell_type": "code",
   "execution_count": 34,
   "id": "8bb74cfe",
   "metadata": {},
   "outputs": [
    {
     "data": {
      "image/png": "[encoded data removed]",
      "text/plain": [
       "<Figure size 432x288 with 1 Axes>"
      ]
     },
     "metadata": {
      "needs_background": "light"
     },
     "output_type": "display_data"
    }
   ],
   "source": [
    "import matplotlib.pyplot as plt\n",
    "freq.plot(30,cumulative=False)\n",
    "plt.show()"
   ]
  },
  {
   "cell_type": "markdown",
   "id": "1d48cede",
   "metadata": {},
   "source": [
    "### Stop words removal"
   ]
  },
  {
   "cell_type": "code",
   "execution_count": 10,
   "id": "9f06c001",
   "metadata": {
    "scrolled": true
   },
   "outputs": [
    {
     "name": "stdout",
     "output_type": "stream",
     "text": [
      "{'few', 'these', 'it', 'did', 'most', 'too', 'against', 'needn', \"shan't\", 'each', 'why', 'can', 'herself', 'by', \"couldn't\", 'or', 'he', 'from', 'such', \"hadn't\", 'haven', \"don't\", 'doing', 'them', 'himself', 'their', 'this', 'am', 'isn', 'who', 'what', 'her', \"won't\", 'you', 'which', 'over', 'there', 'just', 'won', \"didn't\", 'between', 'ma', 'into', 've', 'its', 'been', 'out', \"you'll\", 's', 'shouldn', \"wasn't\", \"weren't\", 'itself', 'those', 'being', 'but', \"that'll\", 'if', 'after', 'they', 'more', 'weren', \"shouldn't\", 'our', \"aren't\", 'mustn', 'll', 'hasn', 'him', 'we', 'i', 'ours', 'at', 'was', 'be', 'yours', 'that', 'wouldn', 'off', 'where', 're', 'further', 'as', 'very', 'other', 'y', 'of', 'theirs', 'to', \"mightn't\", 'shan', 'so', 'through', \"it's\", 'don', 'here', 'hadn', 'couldn', \"doesn't\", 'all', 'will', 'has', 'the', 'on', \"you'd\", \"mustn't\", 'is', 'have', 'his', 'now', 'nor', 'same', 'only', 'me', 'about', 'doesn', 'didn', 'having', \"you've\", 'up', 'ain', 'then', \"needn't\", 'not', \"haven't\", 'before', 'ourselves', \"she's\", 'do', 'than', 'aren', 'd', 'again', \"should've\", 'my', 'm', 'o', 'during', 'does', 'had', 'an', 'hers', 'your', 'with', 'once', \"you're\", 'while', 'any', 'should', 'under', 'down', 'she', \"hasn't\", 'both', 'own', 'in', 'some', 'above', 'mightn', 't', 'wasn', 'were', 'no', 'yourself', \"isn't\", 'yourselves', 'for', 'when', 'a', \"wouldn't\", 'whom', 'and', 'because', 'themselves', 'are', 'how', 'myself', 'below', 'until'}\n"
     ]
    },
    {
     "name": "stderr",
     "output_type": "stream",
     "text": [
      "[nltk_data] Downloading package stopwords to /home/TE/nltk_data...\n",
      "[nltk_data]   Unzipping corpora/stopwords.zip.\n"
     ]
    }
   ],
   "source": [
    "import nltk\n",
    "nltk.download('stopwords')\n",
    "from nltk.corpus import stopwords\n",
    "stop_words=set(stopwords.words(\"english\"))\n",
    "print(stop_words)"
   ]
  },
  {
   "cell_type": "code",
   "execution_count": 11,
   "id": "5031a9ba",
   "metadata": {},
   "outputs": [],
   "source": [
    "text = 'Learn to lose your destiny to find where it leads you'\n",
    "filtered_text = []\n",
    "tokenized_word = word_tokenize(text)\n",
    "for each_word in tokenized_word:\n",
    "    if each_word not in stop_words:\n",
    "        filtered_text.append(each_word)"
   ]
  },
  {
   "cell_type": "code",
   "execution_count": 12,
   "id": "4f499bbe",
   "metadata": {
    "scrolled": true
   },
   "outputs": [
    {
     "name": "stdout",
     "output_type": "stream",
     "text": [
      "Toxenized list with stop words: ['Learn', 'to', 'lose', 'your', 'destiny', 'to', 'find', 'where', 'it', 'leads', 'you']\n",
      "Toxenized list with out stop words: ['Learn', 'lose', 'destiny', 'find', 'leads']\n"
     ]
    }
   ],
   "source": [
    "print('Toxenized list with stop words: {}'.format(tokenized_word))\n",
    "print('Toxenized list with out stop words: {}'.format(filtered_text))"
   ]
  },
  {
   "cell_type": "code",
   "execution_count": 35,
   "id": "5626276e",
   "metadata": {},
   "outputs": [],
   "source": [
    "filtered_text = []\n",
    "tokenize_word = word_tokenize(string)\n",
    "for each_word in tokenize_word:\n",
    "    if each_word not in stop_words:\n",
    "        filtered_text.append(each_word)"
   ]
  },
  {
   "cell_type": "code",
   "execution_count": 36,
   "id": "eca6a3f3",
   "metadata": {},
   "outputs": [
    {
     "name": "stdout",
     "output_type": "stream",
     "text": [
      "Toxenized list with stop words: ['Natural', 'language', 'processing', '(', 'NLP', ')', 'refers', 'to', 'the', 'branch', 'of', 'computer', 'science—and', 'more', 'specifically', ',', 'the', 'branch', 'of', 'artificial', 'intelligence', 'or', 'AI—concerned', 'with', 'giving', 'computers', 'the', 'ability', 'to', 'understand', 'text', 'and', 'spoken', 'words', 'in', 'much', 'the', 'same', 'way', 'human', 'beings', 'can', '.']\n",
      "Toxenized list with out stop words: ['Natural', 'language', 'processing', '(', 'NLP', ')', 'refers', 'branch', 'computer', 'science—and', 'specifically', ',', 'branch', 'artificial', 'intelligence', 'AI—concerned', 'giving', 'computers', 'ability', 'understand', 'text', 'spoken', 'words', 'much', 'way', 'human', 'beings', '.']\n"
     ]
    }
   ],
   "source": [
    "print('Toxenized list with stop words: {}'.format(tokenize_word))\n",
    "print('Toxenized list with out stop words: {}'.format(filtered_text))"
   ]
  },
  {
   "cell_type": "markdown",
   "id": "700cf355",
   "metadata": {},
   "source": [
    "### Stemming "
   ]
  },
  {
   "cell_type": "code",
   "execution_count": 13,
   "id": "ab152826",
   "metadata": {},
   "outputs": [
    {
     "name": "stdout",
     "output_type": "stream",
     "text": [
      "happy--->happi\n",
      "happier--->happier\n",
      "happiest--->happiest\n",
      "happiness--->happi\n",
      "breathing--->breath\n",
      "fairly--->fairli\n",
      "eating--->eat\n"
     ]
    }
   ],
   "source": [
    "from nltk.stem import PorterStemmer\n",
    "pstemmer = PorterStemmer()\n",
    "words = ['happy', 'happier', 'happiest', 'happiness', 'breathing','fairly','eating']\n",
    "for word in words:\n",
    "    print(word + '--->' + pstemmer.stem(word))"
   ]
  },
  {
   "cell_type": "code",
   "execution_count": 37,
   "id": "e30a76b3",
   "metadata": {},
   "outputs": [
    {
     "name": "stdout",
     "output_type": "stream",
     "text": [
      "eat--->eat\n",
      "eating--->eat\n",
      "fast--->fast\n",
      "faster--->faster\n",
      "fasting--->fast\n",
      "fastest--->fastest\n",
      "texting--->text\n"
     ]
    }
   ],
   "source": [
    "from nltk.stem import PorterStemmer\n",
    "pstemmer = PorterStemmer()\n",
    "words = ['eat', 'eating', 'fast', 'faster', 'fasting','fastest','texting']\n",
    "for word in words:\n",
    "    print(word + '--->' + pstemmer.stem(word))"
   ]
  },
  {
   "cell_type": "markdown",
   "id": "a0e8256f",
   "metadata": {},
   "source": [
    "### Lemmatization"
   ]
  },
  {
   "cell_type": "code",
   "execution_count": 14,
   "id": "f1f60253",
   "metadata": {
    "scrolled": true
   },
   "outputs": [
    {
     "name": "stderr",
     "output_type": "stream",
     "text": [
      "[nltk_data] Downloading package wordnet to /home/TE/nltk_data...\n"
     ]
    }
   ],
   "source": [
    "nltk.download('wordnet')\n",
    "from nltk.stem.wordnet import WordNetLemmatizer\n",
    "lemmatizer = WordNetLemmatizer()"
   ]
  },
  {
   "cell_type": "code",
   "execution_count": 15,
   "id": "9c66d067",
   "metadata": {},
   "outputs": [],
   "source": [
    "text = \"Life will always have problems and pressures.\"\n",
    "lemmatized_words= []\n",
    "tokenized_word = word_tokenize(text)\n",
    "for each_word in tokenized_word:\n",
    "    lem_word = lemmatizer.lemmatize(each_word)\n",
    "    lemmatized_words.append(lem_word)"
   ]
  },
  {
   "cell_type": "code",
   "execution_count": 17,
   "id": "ff1a3bb5",
   "metadata": {
    "scrolled": true
   },
   "outputs": [
    {
     "name": "stdout",
     "output_type": "stream",
     "text": [
      "Text with Stop Words: ['Life', 'will', 'always', 'have', 'problems', 'and', 'pressures', '.']\n",
      "Lemmatized Words list ['Life', 'will', 'always', 'have', 'problem', 'and', 'pressure', '.']\n"
     ]
    }
   ],
   "source": [
    "print('Text with Stop Words: {}'.format(tokenized_word))\n",
    "print('Lemmatized Words list {}'.format(lemmatized_words))"
   ]
  },
  {
   "cell_type": "code",
   "execution_count": 38,
   "id": "c97c8e65",
   "metadata": {},
   "outputs": [],
   "source": [
    "lemmatize_words= []\n",
    "tokenize_word = word_tokenize(string)\n",
    "for each_word in tokenize_word:\n",
    "    lem_word = lemmatizer.lemmatize(each_word)\n",
    "    lemmatized_words.append(lem_word)"
   ]
  },
  {
   "cell_type": "code",
   "execution_count": 39,
   "id": "34e6928e",
   "metadata": {},
   "outputs": [
    {
     "name": "stdout",
     "output_type": "stream",
     "text": [
      "Text with Stop Words: ['Natural', 'language', 'processing', '(', 'NLP', ')', 'refers', 'to', 'the', 'branch', 'of', 'computer', 'science—and', 'more', 'specifically', ',', 'the', 'branch', 'of', 'artificial', 'intelligence', 'or', 'AI—concerned', 'with', 'giving', 'computers', 'the', 'ability', 'to', 'understand', 'text', 'and', 'spoken', 'words', 'in', 'much', 'the', 'same', 'way', 'human', 'beings', 'can', '.']\n",
      "Lemmatized Words list ['Life', 'will', 'always', 'have', 'problem', 'and', 'pressure', '.', 'Natural', 'language', 'processing', '(', 'NLP', ')', 'refers', 'to', 'the', 'branch', 'of', 'computer', 'science—and', 'more', 'specifically', ',', 'the', 'branch', 'of', 'artificial', 'intelligence', 'or', 'AI—concerned', 'with', 'giving', 'computer', 'the', 'ability', 'to', 'understand', 'text', 'and', 'spoken', 'word', 'in', 'much', 'the', 'same', 'way', 'human', 'being', 'can', '.']\n"
     ]
    }
   ],
   "source": [
    "print('Text with Stop Words: {}'.format(tokenize_word))\n",
    "print('Lemmatized Words list {}'.format(lemmatized_words))"
   ]
  },
  {
   "cell_type": "markdown",
   "id": "f636e6c3",
   "metadata": {},
   "source": [
    "### Parts of Speech(pos) tagging"
   ]
  },
  {
   "cell_type": "code",
   "execution_count": 18,
   "id": "3e3fa126",
   "metadata": {},
   "outputs": [
    {
     "name": "stderr",
     "output_type": "stream",
     "text": [
      "[nltk_data] Downloading package universal_tagset to\n",
      "[nltk_data]     /home/TE/nltk_data...\n",
      "[nltk_data]   Unzipping taggers/universal_tagset.zip.\n",
      "[nltk_data] Downloading package averaged_perceptron_tagger to\n",
      "[nltk_data]     /home/TE/nltk_data...\n",
      "[nltk_data]   Package averaged_perceptron_tagger is already up-to-\n",
      "[nltk_data]       date!\n"
     ]
    },
    {
     "data": {
      "text/plain": [
       "True"
      ]
     },
     "execution_count": 18,
     "metadata": {},
     "output_type": "execute_result"
    }
   ],
   "source": [
    "nltk.download('universal_tagset')\n",
    "nltk.download('averaged_perceptron_tagger')"
   ]
  },
  {
   "cell_type": "code",
   "execution_count": 19,
   "id": "db31890d",
   "metadata": {},
   "outputs": [
    {
     "data": {
      "text/plain": [
       "[('I', 'PRON'),\n",
       " (\"'m\", 'VERB'),\n",
       " ('going', 'VERB'),\n",
       " ('to', 'PRT'),\n",
       " ('meet', 'VERB'),\n",
       " ('M.S', 'NOUN'),\n",
       " ('.', '.'),\n",
       " ('Dhoni', 'NOUN'),\n",
       " ('.', '.')]"
      ]
     },
     "execution_count": 19,
     "metadata": {},
     "output_type": "execute_result"
    }
   ],
   "source": [
    "text = \"I'm going to meet M.S. Dhoni.\"\n",
    "tokenized_word = word_tokenize(text)\n",
    "nltk.pos_tag(tokenized_word, tagset='universal')"
   ]
  },
  {
   "cell_type": "code",
   "execution_count": 40,
   "id": "df76b7ed",
   "metadata": {},
   "outputs": [
    {
     "data": {
      "text/plain": [
       "[('Natural', 'ADJ'),\n",
       " ('language', 'NOUN'),\n",
       " ('processing', 'NOUN'),\n",
       " ('(', '.'),\n",
       " ('NLP', 'NOUN'),\n",
       " (')', '.'),\n",
       " ('refers', 'NOUN'),\n",
       " ('to', 'PRT'),\n",
       " ('the', 'DET'),\n",
       " ('branch', 'NOUN'),\n",
       " ('of', 'ADP'),\n",
       " ('computer', 'NOUN'),\n",
       " ('science—and', 'NOUN'),\n",
       " ('more', 'ADV'),\n",
       " ('specifically', 'ADV'),\n",
       " (',', '.'),\n",
       " ('the', 'DET'),\n",
       " ('branch', 'NOUN'),\n",
       " ('of', 'ADP'),\n",
       " ('artificial', 'ADJ'),\n",
       " ('intelligence', 'NOUN'),\n",
       " ('or', 'CONJ'),\n",
       " ('AI—concerned', 'VERB'),\n",
       " ('with', 'ADP'),\n",
       " ('giving', 'VERB'),\n",
       " ('computers', 'NOUN'),\n",
       " ('the', 'DET'),\n",
       " ('ability', 'NOUN'),\n",
       " ('to', 'PRT'),\n",
       " ('understand', 'VERB'),\n",
       " ('text', 'NOUN'),\n",
       " ('and', 'CONJ'),\n",
       " ('spoken', 'ADJ'),\n",
       " ('words', 'NOUN'),\n",
       " ('in', 'ADP'),\n",
       " ('much', 'ADJ'),\n",
       " ('the', 'DET'),\n",
       " ('same', 'ADJ'),\n",
       " ('way', 'NOUN'),\n",
       " ('human', 'ADJ'),\n",
       " ('beings', 'NOUN'),\n",
       " ('can', 'VERB'),\n",
       " ('.', '.')]"
      ]
     },
     "execution_count": 40,
     "metadata": {},
     "output_type": "execute_result"
    }
   ],
   "source": [
    "tokenize_word = word_tokenize(string)\n",
    "nltk.pos_tag(tokenize_word, tagset='universal')"
   ]
  },
  {
   "cell_type": "markdown",
   "id": "4cea294d",
   "metadata": {},
   "source": [
    "### Wordnet"
   ]
  },
  {
   "cell_type": "code",
   "execution_count": 20,
   "id": "dee24740",
   "metadata": {},
   "outputs": [
    {
     "name": "stdout",
     "output_type": "stream",
     "text": [
      "[Synset('army_intelligence.n.01'), Synset('artificial_intelligence.n.01'), Synset('three-toed_sloth.n.01'), Synset('artificial_insemination.n.01')]\n"
     ]
    }
   ],
   "source": [
    "from nltk.corpus import wordnet\n",
    "synonym = wordnet.synsets(\"AI\")\n",
    "print(synonym)"
   ]
  },
  {
   "cell_type": "code",
   "execution_count": 21,
   "id": "e15a6325",
   "metadata": {},
   "outputs": [
    {
     "name": "stdout",
     "output_type": "stream",
     "text": [
      "the branch of computer science that deal with writing computer programs that can solve problems creatively\n"
     ]
    }
   ],
   "source": [
    "print(synonym[1].definition())"
   ]
  },
  {
   "cell_type": "code",
   "execution_count": 25,
   "id": "5ea1ebd4",
   "metadata": {},
   "outputs": [
    {
     "name": "stdout",
     "output_type": "stream",
     "text": [
      "['workers in AI hope to imitate or duplicate intelligence in computers and robots']\n"
     ]
    }
   ],
   "source": [
    "print(synonym[1].examples())"
   ]
  },
  {
   "cell_type": "code",
   "execution_count": 41,
   "id": "5c9529e1",
   "metadata": {},
   "outputs": [
    {
     "name": "stdout",
     "output_type": "stream",
     "text": [
      "[Synset('happy.a.01'), Synset('felicitous.s.02'), Synset('glad.s.02'), Synset('happy.s.04')]\n"
     ]
    }
   ],
   "source": [
    "from nltk.corpus import wordnet\n",
    "synonym = wordnet.synsets(\"Happy\")\n",
    "print(synonym)"
   ]
  },
  {
   "cell_type": "code",
   "execution_count": 42,
   "id": "657cedce",
   "metadata": {},
   "outputs": [
    {
     "name": "stdout",
     "output_type": "stream",
     "text": [
      "marked by good fortune\n"
     ]
    }
   ],
   "source": [
    "print(synonym[1].definition())"
   ]
  },
  {
   "cell_type": "code",
   "execution_count": 43,
   "id": "0f96898c",
   "metadata": {},
   "outputs": [
    {
     "name": "stdout",
     "output_type": "stream",
     "text": [
      "['a felicitous life', 'a happy outcome']\n"
     ]
    }
   ],
   "source": [
    "print(synonym[1].examples())"
   ]
  },
  {
   "cell_type": "markdown",
   "id": "0a7ded4b",
   "metadata": {},
   "source": [
    "### Representation of document\n"
   ]
  },
  {
   "cell_type": "code",
   "execution_count": 4,
   "id": "6d14b902",
   "metadata": {},
   "outputs": [],
   "source": [
    "import pandas as pd\n",
    "import sklearn as sk\n",
    "import math "
   ]
  },
  {
   "cell_type": "code",
   "execution_count": 1,
   "id": "79a82304",
   "metadata": {},
   "outputs": [
    {
     "name": "stdout",
     "output_type": "stream",
     "text": [
      "{'key', 'Science', 'century', 'science', 'for', 'learning', 'best', 'data', 'the', 'is', 'job', 'machine', '21st', 'Data', 'of'}\n"
     ]
    }
   ],
   "source": [
    "first_sentence = \"Data Science is the best job of the 21st century\"\n",
    "second_sentence = \"machine learning is the key for data science\"\n",
    "#split\n",
    "first_sentence = first_sentence.split(\" \")\n",
    "second_sentence = second_sentence.split(\" \")\n",
    "#join to remove common duplicates\n",
    "total= set(first_sentence).union(set(second_sentence))\n",
    "print(total)"
   ]
  },
  {
   "cell_type": "code",
   "execution_count": 2,
   "id": "a1ba1688",
   "metadata": {},
   "outputs": [],
   "source": [
    "#count the words\n",
    "wordDictA = dict.fromkeys(total, 0) \n",
    "wordDictB = dict.fromkeys(total, 0)\n",
    "for word in first_sentence:\n",
    "    wordDictA[word]+=1\n",
    "    \n",
    "for word in second_sentence:\n",
    "    wordDictB[word]+=1"
   ]
  },
  {
   "cell_type": "code",
   "execution_count": 5,
   "id": "bc45ed6a",
   "metadata": {
    "scrolled": true
   },
   "outputs": [
    {
     "data": {
      "text/html": [
       "<div>\n",
       "<style scoped>\n",
       "    .dataframe tbody tr th:only-of-type {\n",
       "        vertical-align: middle;\n",
       "    }\n",
       "\n",
       "    .dataframe tbody tr th {\n",
       "        vertical-align: top;\n",
       "    }\n",
       "\n",
       "    .dataframe thead th {\n",
       "        text-align: right;\n",
       "    }\n",
       "</style>\n",
       "<table border=\"1\" class=\"dataframe\">\n",
       "  <thead>\n",
       "    <tr style=\"text-align: right;\">\n",
       "      <th></th>\n",
       "      <th>key</th>\n",
       "      <th>Science</th>\n",
       "      <th>century</th>\n",
       "      <th>science</th>\n",
       "      <th>for</th>\n",
       "      <th>learning</th>\n",
       "      <th>best</th>\n",
       "      <th>data</th>\n",
       "      <th>the</th>\n",
       "      <th>is</th>\n",
       "      <th>job</th>\n",
       "      <th>machine</th>\n",
       "      <th>21st</th>\n",
       "      <th>Data</th>\n",
       "      <th>of</th>\n",
       "    </tr>\n",
       "  </thead>\n",
       "  <tbody>\n",
       "    <tr>\n",
       "      <th>0</th>\n",
       "      <td>0</td>\n",
       "      <td>1</td>\n",
       "      <td>1</td>\n",
       "      <td>0</td>\n",
       "      <td>0</td>\n",
       "      <td>0</td>\n",
       "      <td>1</td>\n",
       "      <td>0</td>\n",
       "      <td>2</td>\n",
       "      <td>1</td>\n",
       "      <td>1</td>\n",
       "      <td>0</td>\n",
       "      <td>1</td>\n",
       "      <td>1</td>\n",
       "      <td>1</td>\n",
       "    </tr>\n",
       "    <tr>\n",
       "      <th>1</th>\n",
       "      <td>1</td>\n",
       "      <td>0</td>\n",
       "      <td>0</td>\n",
       "      <td>1</td>\n",
       "      <td>1</td>\n",
       "      <td>1</td>\n",
       "      <td>0</td>\n",
       "      <td>1</td>\n",
       "      <td>1</td>\n",
       "      <td>1</td>\n",
       "      <td>0</td>\n",
       "      <td>1</td>\n",
       "      <td>0</td>\n",
       "      <td>0</td>\n",
       "      <td>0</td>\n",
       "    </tr>\n",
       "  </tbody>\n",
       "</table>\n",
       "</div>"
      ],
      "text/plain": [
       "   key  Science  century  science  for  learning  best  data  the  is  job  \\\n",
       "0    0        1        1        0    0         0     1     0    2   1    1   \n",
       "1    1        0        0        1    1         1     0     1    1   1    0   \n",
       "\n",
       "   machine  21st  Data  of  \n",
       "0        0     1     1   1  \n",
       "1        1     0     0   0  "
      ]
     },
     "execution_count": 5,
     "metadata": {},
     "output_type": "execute_result"
    }
   ],
   "source": [
    "pd.DataFrame([wordDictA, wordDictB])"
   ]
  },
  {
   "cell_type": "markdown",
   "id": "132df7e0",
   "metadata": {},
   "source": [
    "### Calculate Term Frequency"
   ]
  },
  {
   "cell_type": "code",
   "execution_count": 6,
   "id": "9c5e76ba",
   "metadata": {},
   "outputs": [],
   "source": [
    "#calculate TF\n",
    "def computeTF(wordDict, doc):\n",
    "    tfDict = {}\n",
    "    corpusCount = len(doc)\n",
    "    for word, count in wordDict.items():\n",
    "        tfDict[word] = count/float(corpusCount)\n",
    "    return(tfDict)\n",
    "\n",
    "tfFirst = computeTF(wordDictA, first_sentence)\n",
    "tfSecond = computeTF(wordDictB, second_sentence)\n",
    "\n",
    "tf = pd.DataFrame([tfFirst, tfSecond])"
   ]
  },
  {
   "cell_type": "code",
   "execution_count": 7,
   "id": "33a0a4e6",
   "metadata": {},
   "outputs": [
    {
     "data": {
      "text/html": [
       "<div>\n",
       "<style scoped>\n",
       "    .dataframe tbody tr th:only-of-type {\n",
       "        vertical-align: middle;\n",
       "    }\n",
       "\n",
       "    .dataframe tbody tr th {\n",
       "        vertical-align: top;\n",
       "    }\n",
       "\n",
       "    .dataframe thead th {\n",
       "        text-align: right;\n",
       "    }\n",
       "</style>\n",
       "<table border=\"1\" class=\"dataframe\">\n",
       "  <thead>\n",
       "    <tr style=\"text-align: right;\">\n",
       "      <th></th>\n",
       "      <th>key</th>\n",
       "      <th>Science</th>\n",
       "      <th>century</th>\n",
       "      <th>science</th>\n",
       "      <th>for</th>\n",
       "      <th>learning</th>\n",
       "      <th>best</th>\n",
       "      <th>data</th>\n",
       "      <th>the</th>\n",
       "      <th>is</th>\n",
       "      <th>job</th>\n",
       "      <th>machine</th>\n",
       "      <th>21st</th>\n",
       "      <th>Data</th>\n",
       "      <th>of</th>\n",
       "    </tr>\n",
       "  </thead>\n",
       "  <tbody>\n",
       "    <tr>\n",
       "      <th>0</th>\n",
       "      <td>0.000</td>\n",
       "      <td>0.1</td>\n",
       "      <td>0.1</td>\n",
       "      <td>0.000</td>\n",
       "      <td>0.000</td>\n",
       "      <td>0.000</td>\n",
       "      <td>0.1</td>\n",
       "      <td>0.000</td>\n",
       "      <td>0.200</td>\n",
       "      <td>0.100</td>\n",
       "      <td>0.1</td>\n",
       "      <td>0.000</td>\n",
       "      <td>0.1</td>\n",
       "      <td>0.1</td>\n",
       "      <td>0.1</td>\n",
       "    </tr>\n",
       "    <tr>\n",
       "      <th>1</th>\n",
       "      <td>0.125</td>\n",
       "      <td>0.0</td>\n",
       "      <td>0.0</td>\n",
       "      <td>0.125</td>\n",
       "      <td>0.125</td>\n",
       "      <td>0.125</td>\n",
       "      <td>0.0</td>\n",
       "      <td>0.125</td>\n",
       "      <td>0.125</td>\n",
       "      <td>0.125</td>\n",
       "      <td>0.0</td>\n",
       "      <td>0.125</td>\n",
       "      <td>0.0</td>\n",
       "      <td>0.0</td>\n",
       "      <td>0.0</td>\n",
       "    </tr>\n",
       "  </tbody>\n",
       "</table>\n",
       "</div>"
      ],
      "text/plain": [
       "     key  Science  century  science    for  learning  best   data    the  \\\n",
       "0  0.000      0.1      0.1    0.000  0.000     0.000   0.1  0.000  0.200   \n",
       "1  0.125      0.0      0.0    0.125  0.125     0.125   0.0  0.125  0.125   \n",
       "\n",
       "      is  job  machine  21st  Data   of  \n",
       "0  0.100  0.1    0.000   0.1   0.1  0.1  \n",
       "1  0.125  0.0    0.125   0.0   0.0  0.0  "
      ]
     },
     "execution_count": 7,
     "metadata": {},
     "output_type": "execute_result"
    }
   ],
   "source": [
    "tf"
   ]
  },
  {
   "cell_type": "code",
   "execution_count": 8,
   "id": "9cfdcaf5",
   "metadata": {},
   "outputs": [
    {
     "name": "stdout",
     "output_type": "stream",
     "text": [
      "['key', 'Science', 'century', 'science', 'learning', 'best', 'data', 'job', 'machine', '21st', 'Data']\n"
     ]
    },
    {
     "name": "stderr",
     "output_type": "stream",
     "text": [
      "[nltk_data] Downloading package stopwords to /home/TE/nltk_data...\n",
      "[nltk_data]   Package stopwords is already up-to-date!\n"
     ]
    }
   ],
   "source": [
    "#remove stop words\n",
    "import nltk\n",
    "nltk.download('stopwords')\n",
    "from nltk.corpus import stopwords\n",
    "stop_words = set(stopwords.words('english'))\n",
    "filtered_sentence = [w for w in wordDictA if not w in stop_words]\n",
    "print(filtered_sentence)"
   ]
  },
  {
   "cell_type": "markdown",
   "id": "921eee7d",
   "metadata": {},
   "source": [
    "### Calculate Inverse Document Frequency"
   ]
  },
  {
   "cell_type": "code",
   "execution_count": 9,
   "id": "56114685",
   "metadata": {},
   "outputs": [],
   "source": [
    "#calculate IDF\n",
    "def computeIDF(docList):\n",
    "    idfDict = {}\n",
    "    N = len(docList)\n",
    "    \n",
    "    idfDict = dict.fromkeys(docList[0].keys(), 0)\n",
    "    for word, val in idfDict.items():\n",
    "        idfDict[word] = math.log10(N / (float(val) + 1))\n",
    "        \n",
    "    return(idfDict)\n",
    "\n",
    "idfs = computeIDF([wordDictA, wordDictB])"
   ]
  },
  {
   "cell_type": "code",
   "execution_count": 10,
   "id": "ffa09cf1",
   "metadata": {},
   "outputs": [
    {
     "data": {
      "text/plain": [
       "{'key': 0.3010299956639812,\n",
       " 'Science': 0.3010299956639812,\n",
       " 'century': 0.3010299956639812,\n",
       " 'science': 0.3010299956639812,\n",
       " 'for': 0.3010299956639812,\n",
       " 'learning': 0.3010299956639812,\n",
       " 'best': 0.3010299956639812,\n",
       " 'data': 0.3010299956639812,\n",
       " 'the': 0.3010299956639812,\n",
       " 'is': 0.3010299956639812,\n",
       " 'job': 0.3010299956639812,\n",
       " 'machine': 0.3010299956639812,\n",
       " '21st': 0.3010299956639812,\n",
       " 'Data': 0.3010299956639812,\n",
       " 'of': 0.3010299956639812}"
      ]
     },
     "execution_count": 10,
     "metadata": {},
     "output_type": "execute_result"
    }
   ],
   "source": [
    "idfs"
   ]
  },
  {
   "cell_type": "code",
   "execution_count": null,
   "id": "aca13d09",
   "metadata": {},
   "outputs": [],
   "source": []
  }
 ],
 "metadata": {
  "kernelspec": {
   "display_name": "Python 3",
   "language": "python",
   "name": "python3"
  },
  "language_info": {
   "codemirror_mode": {
    "name": "ipython",
    "version": 3
   },
   "file_extension": ".py",
   "mimetype": "text/x-python",
   "name": "python",
   "nbconvert_exporter": "python",
   "pygments_lexer": "ipython3",
   "version": "3.8.10"
  }
 },
 "nbformat": 4,
 "nbformat_minor": 5
}
